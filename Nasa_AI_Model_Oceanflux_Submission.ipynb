{
  "cells": [
    {
      "cell_type": "markdown",
      "metadata": {
        "id": "rPMZ-ZJ8stlB"
      },
      "source": [
        "# AI Model for predicitions"
      ]
    },
    {
      "cell_type": "code",
      "execution_count": null,
      "metadata": {
        "id": "bN96ezses0Pq"
      },
      "outputs": [],
      "source": [
        "pip install rasterio"
      ]
    },
    {
      "cell_type": "code",
      "execution_count": null,
      "metadata": {
        "id": "aUW9XEU2INOm"
      },
      "outputs": [],
      "source": [
        "import rasterio\n",
        "from rasterio.warp import reproject, Resampling\n",
        "\n",
        "def load_and_resize_geotiff(file_path, new_shape):\n",
        "    with rasterio.open(file_path) as src:\n",
        "        # Read the original data\n",
        "        data = src.read(1)\n",
        "        new_height, new_width = new_shape\n",
        "\n",
        "        # Prepare an empty array for the resized data\n",
        "        data_resized = np.empty((new_height, new_width), dtype=rasterio.float32)\n",
        "\n",
        "        # Perform the resampling (resampling method can be 'bilinear', 'nearest', etc.)\n",
        "        reproject(\n",
        "            source=data,\n",
        "            destination=data_resized,\n",
        "            src_transform=src.transform,\n",
        "            src_crs=src.crs,\n",
        "            dst_transform=src.transform * src.transform.scale(\n",
        "                src.width / new_width,\n",
        "                src.height / new_height\n",
        "            ),\n",
        "            dst_crs=src.crs,\n",
        "            resampling=Resampling.bilinear\n",
        "        )\n",
        "\n",
        "        return data_resized\n"
      ]
    },
    {
      "cell_type": "code",
      "execution_count": null,
      "metadata": {
        "colab": {
          "base_uri": "https://localhost:8080/"
        },
        "id": "Y1WKWVX9QzFJ",
        "outputId": "6cff6eae-f3ea-470c-b49e-021a82152f5f"
      },
      "outputs": [
        {
          "name": "stdout",
          "output_type": "stream",
          "text": [
            "Mounted at /content/drive\n"
          ]
        }
      ],
      "source": [
        "from google.colab import drive\n",
        "drive.mount('/content/drive')"
      ]
    },
    {
      "cell_type": "code",
      "execution_count": null,
      "metadata": {
        "id": "2AUAFNSmINOl"
      },
      "outputs": [],
      "source": [
        "import rasterio\n",
        "import numpy as np\n",
        "import os\n",
        "from rasterio.enums import Resampling\n",
        "\n",
        "# Load a series of GeoTIFFs into a numpy array (time, height, width) with resizing\n",
        "def load_timeseries_data(directory, new_shape):\n",
        "    files = sorted([os.path.join(directory, f) for f in os.listdir(directory) if f.endswith('.tif')])\n",
        "    data = [load_and_resize_geotiff(f, new_shape) for f in files]\n",
        "    return np.stack(data, axis=0)  # Stack images along the time axis\n",
        "\n",
        "# Example usage: load time-series data from a directory with resizing\n",
        "directory = '/content/drive/MyDrive/NASA Space Apps/Ocean Flux Data'\n",
        "\n",
        "new_shape = (360, 720)  # Example of resizing to half the original size (721, 1440 -> 360, 720)\n",
        "data = load_timeseries_data(directory, new_shape)\n",
        "\n",
        "# Normalize the data for the model\n",
        "data = data / np.max(data)  # Normalization step"
      ]
    },
    {
      "cell_type": "code",
      "execution_count": null,
      "metadata": {
        "colab": {
          "base_uri": "https://localhost:8080/"
        },
        "id": "7YuNl-02DF8y",
        "outputId": "91aec569-98cc-43bd-f5c7-2af8bc328baa"
      },
      "outputs": [
        {
          "name": "stdout",
          "output_type": "stream",
          "text": [
            "<class 'numpy.ndarray'>\n",
            "(36, 360, 720)\n"
          ]
        }
      ],
      "source": [
        "print(type(data))\n",
        "print(data.shape)"
      ]
    },
    {
      "cell_type": "code",
      "execution_count": null,
      "metadata": {
        "id": "JGSLf25lxAw1"
      },
      "outputs": [],
      "source": [
        "import numpy as np\n",
        "\n",
        "# Assuming you have loaded 36 images into `image_list`\n",
        "# Each image is of shape (height, width)\n",
        "# Example: image_list[0].shape == (image_height, image_width)\n",
        "\n",
        "# Parameters\n",
        "sequence_length = 6  # Use 6 months to predict the next one\n",
        "\n",
        "# Reshape images to include the channel dimension\n",
        "# Shape after this step: (36, image_height, image_width, 1)\n",
        "data = np.expand_dims(data, axis=-1)\n",
        "\n",
        "# Prepare the sequences and corresponding labels\n",
        "def create_sequences(images, seq_length):\n",
        "    X = []\n",
        "    y = []\n",
        "    for i in range(len(images) - seq_length):\n",
        "        # Input sequence of length 6 months\n",
        "        X.append(images[i:i+seq_length])\n",
        "        # Target is the next (7th) month\n",
        "        y.append(images[i+seq_length])\n",
        "    return np.array(X), np.array(y)\n",
        "\n",
        "# Prepare the dataset\n",
        "X, y = create_sequences(data, sequence_length)\n",
        "\n",
        "# The shape of X will be (number_of_sequences, 6, image_height, image_width, 1)\n",
        "# The shape of y will be (number_of_sequences, image_height, image_width, 1)\n",
        "\n",
        "# Split the dataset into training and testing sets\n",
        "train_size = 30  # Use the first 30 months for training\n",
        "X_train, y_train = X[:train_size-sequence_length], y[:train_size-sequence_length]\n",
        "X_val, y_val = X[train_size-sequence_length: -3], y[train_size-sequence_length: -3]\n",
        "\n",
        "# Now, X_train and y_train are ready for training the ConvLSTM model\n",
        "# X_train.shape -> (24, 6, image_height, image_width, 1) if training on the first 30 months\n",
        "# X_val.shape -> (3, 6, image_height, image_width, 1) if testing on the last 3 months\n",
        "\n",
        "\n"
      ]
    },
    {
      "cell_type": "code",
      "execution_count": null,
      "metadata": {
        "colab": {
          "base_uri": "https://localhost:8080/"
        },
        "id": "BRJsikgbJYJw",
        "outputId": "46abbdc1-4925-4d4e-a136-e90a06eab84b"
      },
      "outputs": [
        {
          "name": "stdout",
          "output_type": "stream",
          "text": [
            "(30, 6, 360, 720, 1)\n",
            "(30, 360, 720, 1)\n"
          ]
        }
      ],
      "source": [
        "print(X.shape)\n",
        "print(y.shape)"
      ]
    },
    {
      "cell_type": "code",
      "execution_count": null,
      "metadata": {
        "id": "3ixIVAOJDqfu"
      },
      "outputs": [],
      "source": [
        "print(X_train.shape)\n",
        "print(y_train.shape)"
      ]
    },
    {
      "cell_type": "code",
      "execution_count": null,
      "metadata": {
        "id": "hOVh0rvJEdEu"
      },
      "outputs": [],
      "source": [
        "print(X_val.shape)\n",
        "print(y_val.shape)"
      ]
    },
    {
      "cell_type": "code",
      "execution_count": null,
      "metadata": {
        "colab": {
          "base_uri": "https://localhost:8080/"
        },
        "id": "-S8_K9OPaJvp",
        "outputId": "fab85ae5-c2bd-4aff-f8a5-cf23e6a8b08d"
      },
      "outputs": [
        {
          "name": "stderr",
          "output_type": "stream",
          "text": [
            "WARNING:absl:Compiled the loaded model, but the compiled metrics have yet to be built. `model.compile_metrics` will be empty until you train or evaluate the model.\n"
          ]
        }
      ],
      "source": [
        "from tensorflow.keras.models import load_model\n",
        "\n",
        "model_file = '/content/drive/MyDrive/npp_model.h5'\n",
        "model= load_model(model_file)\n"
      ]
    },
    {
      "cell_type": "markdown",
      "source": [
        "**The next Cell contains the model loaded. BUT it's trained on another dataset, and we load it to have initialized weights based on similar dataset instead of random weights**\n"
      ],
      "metadata": {
        "id": "LUJJ9nSI3nJr"
      }
    },
    {
      "cell_type": "code",
      "execution_count": null,
      "metadata": {
        "id": "ltlF6mB5NXFo"
      },
      "outputs": [],
      "source": [
        "'''\n",
        "import tensorflow as tf\n",
        "from tensorflow.keras.models import Model\n",
        "from tensorflow.keras.layers import Conv2D, MaxPooling2D, Flatten, Dense, LSTM, TimeDistributed, Input, Reshape\n",
        "import h5py\n",
        "\n",
        "# Define the input shape for (time_steps, height, width, channels)\n",
        "input_shape = (6, 360, 720, 1)  # (time_steps, 360 height, 720 width, 1 channel)\n",
        "\n",
        "# Input for the time series of images\n",
        "inputs = Input(shape=input_shape)\n",
        "\n",
        "# CNN block (apply the same CNN to each frame)\n",
        "cnn = TimeDistributed(Conv2D(16, (3, 3), activation='relu', padding='same'))(inputs)\n",
        "cnn = TimeDistributed(MaxPooling2D((2, 2)))(cnn)\n",
        "cnn = TimeDistributed(Conv2D(32, (3, 3), activation='relu', padding='same'))(cnn)\n",
        "cnn = TimeDistributed(MaxPooling2D((2, 2)))(cnn)\n",
        "\n",
        "# Flatten the output of the CNN\n",
        "cnn = TimeDistributed(Flatten())(cnn)\n",
        "\n",
        "# LSTM block (process the sequence of CNN outputs)\n",
        "lstm_out = LSTM(128, return_sequences=False, activation='tanh')(cnn)\n",
        "\n",
        "# Fully connected layer to map LSTM output to the future image\n",
        "dense = Dense(360 * 720, activation='sigmoid')(lstm_out)\n",
        "\n",
        "# Reshape the output to match the new image dimensions (360x720)\n",
        "outputs = Reshape((360, 720, 1))(dense)\n",
        "\n",
        "# Create the model\n",
        "model = Model(inputs=inputs, outputs=outputs)\n",
        "\n",
        "\n",
        "\n",
        "'''"
      ]
    },
    {
      "cell_type": "code",
      "execution_count": null,
      "metadata": {
        "id": "CzlIpXnxuzuo"
      },
      "outputs": [],
      "source": [
        "#metrics to evaluate\n",
        "import tensorflow as tf\n",
        "\n",
        "#Structural Similarity Index (SSIM):\n",
        "#SSIM values range from -1 to 1, where 1 indicates perfect similarity between the predicted and actual images.\n",
        "def ssim_metric(y_true, y_pred):\n",
        "    return tf.reduce_mean(tf.image.ssim(y_true, y_pred, max_val=1.0))\n",
        "#peak signal to noise ratio\n",
        "def psnr_metric(y_true, y_pred):\n",
        "    return tf.image.psnr(y_true, y_pred, max_val=1.0)\n"
      ]
    },
    {
      "cell_type": "code",
      "execution_count": null,
      "metadata": {
        "id": "bsucfBx5yXLZ"
      },
      "outputs": [],
      "source": [
        "from tensorflow.keras.optimizers import Adam\n",
        "\n",
        "# Set the learning rate to a custom value\n",
        "learning_rate = 1.0  # You can adjust this value\n",
        "\n",
        "# Create the Adam optimizer with the custom learning rate\n",
        "optimizer = Adam(learning_rate=learning_rate)\n",
        "\n",
        "# Compile the model with the custom learning rate optimizer\n",
        "model.compile(optimizer=optimizer, loss='mean_squared_error', metrics=[ssim_metric, psnr_metric])"
      ]
    },
    {
      "cell_type": "code",
      "execution_count": null,
      "metadata": {
        "colab": {
          "base_uri": "https://localhost:8080/",
          "height": 417
        },
        "id": "Cr8OmI5DyZD-",
        "outputId": "7d272f48-e6a6-470c-d3f0-2f2629e75ec9"
      },
      "outputs": [
        {
          "data": {
            "text/html": [
              "<pre style=\"white-space:pre;overflow-x:auto;line-height:normal;font-family:Menlo,'DejaVu Sans Mono',consolas,'Courier New',monospace\"><span style=\"font-weight: bold\">Model: \"functional\"</span>\n",
              "</pre>\n"
            ],
            "text/plain": [
              "\u001b[1mModel: \"functional\"\u001b[0m\n"
            ]
          },
          "metadata": {},
          "output_type": "display_data"
        },
        {
          "data": {
            "text/html": [
              "<pre style=\"white-space:pre;overflow-x:auto;line-height:normal;font-family:Menlo,'DejaVu Sans Mono',consolas,'Courier New',monospace\">┏━━━━━━━━━━━━━━━━━━━━━━━━━━━━━━━━━━━━━━┳━━━━━━━━━━━━━━━━━━━━━━━━━━━━━┳━━━━━━━━━━━━━━━━━┓\n",
              "┃<span style=\"font-weight: bold\"> Layer (type)                         </span>┃<span style=\"font-weight: bold\"> Output Shape                </span>┃<span style=\"font-weight: bold\">         Param # </span>┃\n",
              "┡━━━━━━━━━━━━━━━━━━━━━━━━━━━━━━━━━━━━━━╇━━━━━━━━━━━━━━━━━━━━━━━━━━━━━╇━━━━━━━━━━━━━━━━━┩\n",
              "│ input_layer (<span style=\"color: #0087ff; text-decoration-color: #0087ff\">InputLayer</span>)             │ (<span style=\"color: #00d7ff; text-decoration-color: #00d7ff\">None</span>, <span style=\"color: #00af00; text-decoration-color: #00af00\">6</span>, <span style=\"color: #00af00; text-decoration-color: #00af00\">360</span>, <span style=\"color: #00af00; text-decoration-color: #00af00\">720</span>, <span style=\"color: #00af00; text-decoration-color: #00af00\">1</span>)      │               <span style=\"color: #00af00; text-decoration-color: #00af00\">0</span> │\n",
              "├──────────────────────────────────────┼─────────────────────────────┼─────────────────┤\n",
              "│ time_distributed (<span style=\"color: #0087ff; text-decoration-color: #0087ff\">TimeDistributed</span>)   │ (<span style=\"color: #00d7ff; text-decoration-color: #00d7ff\">None</span>, <span style=\"color: #00af00; text-decoration-color: #00af00\">6</span>, <span style=\"color: #00af00; text-decoration-color: #00af00\">360</span>, <span style=\"color: #00af00; text-decoration-color: #00af00\">720</span>, <span style=\"color: #00af00; text-decoration-color: #00af00\">16</span>)     │             <span style=\"color: #00af00; text-decoration-color: #00af00\">160</span> │\n",
              "├──────────────────────────────────────┼─────────────────────────────┼─────────────────┤\n",
              "│ time_distributed_1 (<span style=\"color: #0087ff; text-decoration-color: #0087ff\">TimeDistributed</span>) │ (<span style=\"color: #00d7ff; text-decoration-color: #00d7ff\">None</span>, <span style=\"color: #00af00; text-decoration-color: #00af00\">6</span>, <span style=\"color: #00af00; text-decoration-color: #00af00\">180</span>, <span style=\"color: #00af00; text-decoration-color: #00af00\">360</span>, <span style=\"color: #00af00; text-decoration-color: #00af00\">16</span>)     │               <span style=\"color: #00af00; text-decoration-color: #00af00\">0</span> │\n",
              "├──────────────────────────────────────┼─────────────────────────────┼─────────────────┤\n",
              "│ time_distributed_2 (<span style=\"color: #0087ff; text-decoration-color: #0087ff\">TimeDistributed</span>) │ (<span style=\"color: #00d7ff; text-decoration-color: #00d7ff\">None</span>, <span style=\"color: #00af00; text-decoration-color: #00af00\">6</span>, <span style=\"color: #00af00; text-decoration-color: #00af00\">180</span>, <span style=\"color: #00af00; text-decoration-color: #00af00\">360</span>, <span style=\"color: #00af00; text-decoration-color: #00af00\">32</span>)     │           <span style=\"color: #00af00; text-decoration-color: #00af00\">4,640</span> │\n",
              "├──────────────────────────────────────┼─────────────────────────────┼─────────────────┤\n",
              "│ time_distributed_3 (<span style=\"color: #0087ff; text-decoration-color: #0087ff\">TimeDistributed</span>) │ (<span style=\"color: #00d7ff; text-decoration-color: #00d7ff\">None</span>, <span style=\"color: #00af00; text-decoration-color: #00af00\">6</span>, <span style=\"color: #00af00; text-decoration-color: #00af00\">90</span>, <span style=\"color: #00af00; text-decoration-color: #00af00\">180</span>, <span style=\"color: #00af00; text-decoration-color: #00af00\">32</span>)      │               <span style=\"color: #00af00; text-decoration-color: #00af00\">0</span> │\n",
              "├──────────────────────────────────────┼─────────────────────────────┼─────────────────┤\n",
              "│ time_distributed_4 (<span style=\"color: #0087ff; text-decoration-color: #0087ff\">TimeDistributed</span>) │ (<span style=\"color: #00d7ff; text-decoration-color: #00d7ff\">None</span>, <span style=\"color: #00af00; text-decoration-color: #00af00\">6</span>, <span style=\"color: #00af00; text-decoration-color: #00af00\">518400</span>)           │               <span style=\"color: #00af00; text-decoration-color: #00af00\">0</span> │\n",
              "├──────────────────────────────────────┼─────────────────────────────┼─────────────────┤\n",
              "│ lstm (<span style=\"color: #0087ff; text-decoration-color: #0087ff\">LSTM</span>)                          │ (<span style=\"color: #00d7ff; text-decoration-color: #00d7ff\">None</span>, <span style=\"color: #00af00; text-decoration-color: #00af00\">128</span>)                 │     <span style=\"color: #00af00; text-decoration-color: #00af00\">265,486,848</span> │\n",
              "├──────────────────────────────────────┼─────────────────────────────┼─────────────────┤\n",
              "│ dense (<span style=\"color: #0087ff; text-decoration-color: #0087ff\">Dense</span>)                        │ (<span style=\"color: #00d7ff; text-decoration-color: #00d7ff\">None</span>, <span style=\"color: #00af00; text-decoration-color: #00af00\">259200</span>)              │      <span style=\"color: #00af00; text-decoration-color: #00af00\">33,436,800</span> │\n",
              "├──────────────────────────────────────┼─────────────────────────────┼─────────────────┤\n",
              "│ reshape (<span style=\"color: #0087ff; text-decoration-color: #0087ff\">Reshape</span>)                    │ (<span style=\"color: #00d7ff; text-decoration-color: #00d7ff\">None</span>, <span style=\"color: #00af00; text-decoration-color: #00af00\">360</span>, <span style=\"color: #00af00; text-decoration-color: #00af00\">720</span>, <span style=\"color: #00af00; text-decoration-color: #00af00\">1</span>)         │               <span style=\"color: #00af00; text-decoration-color: #00af00\">0</span> │\n",
              "└──────────────────────────────────────┴─────────────────────────────┴─────────────────┘\n",
              "</pre>\n"
            ],
            "text/plain": [
              "┏━━━━━━━━━━━━━━━━━━━━━━━━━━━━━━━━━━━━━━┳━━━━━━━━━━━━━━━━━━━━━━━━━━━━━┳━━━━━━━━━━━━━━━━━┓\n",
              "┃\u001b[1m \u001b[0m\u001b[1mLayer (type)                        \u001b[0m\u001b[1m \u001b[0m┃\u001b[1m \u001b[0m\u001b[1mOutput Shape               \u001b[0m\u001b[1m \u001b[0m┃\u001b[1m \u001b[0m\u001b[1m        Param #\u001b[0m\u001b[1m \u001b[0m┃\n",
              "┡━━━━━━━━━━━━━━━━━━━━━━━━━━━━━━━━━━━━━━╇━━━━━━━━━━━━━━━━━━━━━━━━━━━━━╇━━━━━━━━━━━━━━━━━┩\n",
              "│ input_layer (\u001b[38;5;33mInputLayer\u001b[0m)             │ (\u001b[38;5;45mNone\u001b[0m, \u001b[38;5;34m6\u001b[0m, \u001b[38;5;34m360\u001b[0m, \u001b[38;5;34m720\u001b[0m, \u001b[38;5;34m1\u001b[0m)      │               \u001b[38;5;34m0\u001b[0m │\n",
              "├──────────────────────────────────────┼─────────────────────────────┼─────────────────┤\n",
              "│ time_distributed (\u001b[38;5;33mTimeDistributed\u001b[0m)   │ (\u001b[38;5;45mNone\u001b[0m, \u001b[38;5;34m6\u001b[0m, \u001b[38;5;34m360\u001b[0m, \u001b[38;5;34m720\u001b[0m, \u001b[38;5;34m16\u001b[0m)     │             \u001b[38;5;34m160\u001b[0m │\n",
              "├──────────────────────────────────────┼─────────────────────────────┼─────────────────┤\n",
              "│ time_distributed_1 (\u001b[38;5;33mTimeDistributed\u001b[0m) │ (\u001b[38;5;45mNone\u001b[0m, \u001b[38;5;34m6\u001b[0m, \u001b[38;5;34m180\u001b[0m, \u001b[38;5;34m360\u001b[0m, \u001b[38;5;34m16\u001b[0m)     │               \u001b[38;5;34m0\u001b[0m │\n",
              "├──────────────────────────────────────┼─────────────────────────────┼─────────────────┤\n",
              "│ time_distributed_2 (\u001b[38;5;33mTimeDistributed\u001b[0m) │ (\u001b[38;5;45mNone\u001b[0m, \u001b[38;5;34m6\u001b[0m, \u001b[38;5;34m180\u001b[0m, \u001b[38;5;34m360\u001b[0m, \u001b[38;5;34m32\u001b[0m)     │           \u001b[38;5;34m4,640\u001b[0m │\n",
              "├──────────────────────────────────────┼─────────────────────────────┼─────────────────┤\n",
              "│ time_distributed_3 (\u001b[38;5;33mTimeDistributed\u001b[0m) │ (\u001b[38;5;45mNone\u001b[0m, \u001b[38;5;34m6\u001b[0m, \u001b[38;5;34m90\u001b[0m, \u001b[38;5;34m180\u001b[0m, \u001b[38;5;34m32\u001b[0m)      │               \u001b[38;5;34m0\u001b[0m │\n",
              "├──────────────────────────────────────┼─────────────────────────────┼─────────────────┤\n",
              "│ time_distributed_4 (\u001b[38;5;33mTimeDistributed\u001b[0m) │ (\u001b[38;5;45mNone\u001b[0m, \u001b[38;5;34m6\u001b[0m, \u001b[38;5;34m518400\u001b[0m)           │               \u001b[38;5;34m0\u001b[0m │\n",
              "├──────────────────────────────────────┼─────────────────────────────┼─────────────────┤\n",
              "│ lstm (\u001b[38;5;33mLSTM\u001b[0m)                          │ (\u001b[38;5;45mNone\u001b[0m, \u001b[38;5;34m128\u001b[0m)                 │     \u001b[38;5;34m265,486,848\u001b[0m │\n",
              "├──────────────────────────────────────┼─────────────────────────────┼─────────────────┤\n",
              "│ dense (\u001b[38;5;33mDense\u001b[0m)                        │ (\u001b[38;5;45mNone\u001b[0m, \u001b[38;5;34m259200\u001b[0m)              │      \u001b[38;5;34m33,436,800\u001b[0m │\n",
              "├──────────────────────────────────────┼─────────────────────────────┼─────────────────┤\n",
              "│ reshape (\u001b[38;5;33mReshape\u001b[0m)                    │ (\u001b[38;5;45mNone\u001b[0m, \u001b[38;5;34m360\u001b[0m, \u001b[38;5;34m720\u001b[0m, \u001b[38;5;34m1\u001b[0m)         │               \u001b[38;5;34m0\u001b[0m │\n",
              "└──────────────────────────────────────┴─────────────────────────────┴─────────────────┘\n"
            ]
          },
          "metadata": {},
          "output_type": "display_data"
        },
        {
          "data": {
            "text/html": [
              "<pre style=\"white-space:pre;overflow-x:auto;line-height:normal;font-family:Menlo,'DejaVu Sans Mono',consolas,'Courier New',monospace\"><span style=\"font-weight: bold\"> Total params: </span><span style=\"color: #00af00; text-decoration-color: #00af00\">298,928,448</span> (1.11 GB)\n",
              "</pre>\n"
            ],
            "text/plain": [
              "\u001b[1m Total params: \u001b[0m\u001b[38;5;34m298,928,448\u001b[0m (1.11 GB)\n"
            ]
          },
          "metadata": {},
          "output_type": "display_data"
        },
        {
          "data": {
            "text/html": [
              "<pre style=\"white-space:pre;overflow-x:auto;line-height:normal;font-family:Menlo,'DejaVu Sans Mono',consolas,'Courier New',monospace\"><span style=\"font-weight: bold\"> Trainable params: </span><span style=\"color: #00af00; text-decoration-color: #00af00\">298,928,448</span> (1.11 GB)\n",
              "</pre>\n"
            ],
            "text/plain": [
              "\u001b[1m Trainable params: \u001b[0m\u001b[38;5;34m298,928,448\u001b[0m (1.11 GB)\n"
            ]
          },
          "metadata": {},
          "output_type": "display_data"
        },
        {
          "data": {
            "text/html": [
              "<pre style=\"white-space:pre;overflow-x:auto;line-height:normal;font-family:Menlo,'DejaVu Sans Mono',consolas,'Courier New',monospace\"><span style=\"font-weight: bold\"> Non-trainable params: </span><span style=\"color: #00af00; text-decoration-color: #00af00\">0</span> (0.00 B)\n",
              "</pre>\n"
            ],
            "text/plain": [
              "\u001b[1m Non-trainable params: \u001b[0m\u001b[38;5;34m0\u001b[0m (0.00 B)\n"
            ]
          },
          "metadata": {},
          "output_type": "display_data"
        }
      ],
      "source": [
        "# Print the model summary\n",
        "model.summary()"
      ]
    },
    {
      "cell_type": "code",
      "execution_count": null,
      "metadata": {
        "id": "i9B3lSmM-dxA"
      },
      "outputs": [],
      "source": [
        "# Convert your NumPy arrays to TensorFlow Datasets\n",
        "train_dataset = tf.data.Dataset.from_tensor_slices((X_train, y_train))\n",
        "val_dataset = tf.data.Dataset.from_tensor_slices((X_val, y_val))\n",
        "\n",
        "# Batch and prefetch the training dataset\n",
        "train_dataset = (train_dataset\n",
        "                 .batch(batch_size=2)                # Set the batch size\n",
        "                 .prefetch(tf.data.AUTOTUNE))       # Prefetching to improve performance\n",
        "\n",
        "# Prepare the validation dataset\n",
        "val_dataset = (val_dataset\n",
        "               .batch(batch_size=2)                # Set the batch size\n",
        "               .prefetch(tf.data.AUTOTUNE))       # Prefetching to improve performance\n",
        "\n"
      ]
    },
    {
      "cell_type": "code",
      "execution_count": null,
      "metadata": {
        "colab": {
          "background_save": true,
          "base_uri": "https://localhost:8080/"
        },
        "id": "_g9MhPkGAG-r",
        "outputId": "4f2141d7-a921-4d02-f8e1-dd35e000b9d6"
      },
      "outputs": [
        {
          "name": "stdout",
          "output_type": "stream",
          "text": [
            "Epoch 1/10\n",
            "\u001b[1m12/12\u001b[0m \u001b[32m━━━━━━━━━━━━━━━━━━━━\u001b[0m\u001b[37m\u001b[0m \u001b[1m452s\u001b[0m 37s/step - loss: 61624786944.0000 - psnr_metric: -107.8975 - ssim_metric: 0.4337 - val_loss: 61624778752.0000 - val_psnr_metric: -107.8975 - val_ssim_metric: 0.4353\n",
            "Epoch 2/10\n",
            "\u001b[1m12/12\u001b[0m \u001b[32m━━━━━━━━━━━━━━━━━━━━\u001b[0m\u001b[37m\u001b[0m \u001b[1m456s\u001b[0m 38s/step - loss: 61624782848.0000 - psnr_metric: -107.8975 - ssim_metric: 0.4338 - val_loss: 61624778752.0000 - val_psnr_metric: -107.8975 - val_ssim_metric: 0.4353\n",
            "Epoch 3/10\n",
            "\u001b[1m12/12\u001b[0m \u001b[32m━━━━━━━━━━━━━━━━━━━━\u001b[0m\u001b[37m\u001b[0m \u001b[1m510s\u001b[0m 38s/step - loss: 61624782848.0000 - psnr_metric: -107.8975 - ssim_metric: 0.4338 - val_loss: 61624778752.0000 - val_psnr_metric: -107.8975 - val_ssim_metric: 0.4353\n",
            "Epoch 4/10\n",
            "\u001b[1m12/12\u001b[0m \u001b[32m━━━━━━━━━━━━━━━━━━━━\u001b[0m\u001b[37m\u001b[0m \u001b[1m470s\u001b[0m 36s/step - loss: 61624782848.0000 - psnr_metric: -107.8975 - ssim_metric: 0.4338 - val_loss: 61624778752.0000 - val_psnr_metric: -107.8975 - val_ssim_metric: 0.4353\n",
            "Epoch 5/10\n",
            "\u001b[1m12/12\u001b[0m \u001b[32m━━━━━━━━━━━━━━━━━━━━\u001b[0m\u001b[37m\u001b[0m \u001b[1m431s\u001b[0m 36s/step - loss: 61624782848.0000 - psnr_metric: -107.8975 - ssim_metric: 0.4338 - val_loss: 61624778752.0000 - val_psnr_metric: -107.8975 - val_ssim_metric: 0.4353\n",
            "Epoch 6/10\n",
            "\u001b[1m12/12\u001b[0m \u001b[32m━━━━━━━━━━━━━━━━━━━━\u001b[0m\u001b[37m\u001b[0m \u001b[1m441s\u001b[0m 36s/step - loss: 61624782848.0000 - psnr_metric: -107.8975 - ssim_metric: 0.4338 - val_loss: 61624778752.0000 - val_psnr_metric: -107.8975 - val_ssim_metric: 0.4353\n",
            "Epoch 7/10\n",
            "\u001b[1m12/12\u001b[0m \u001b[32m━━━━━━━━━━━━━━━━━━━━\u001b[0m\u001b[37m\u001b[0m \u001b[1m435s\u001b[0m 36s/step - loss: 61624782848.0000 - psnr_metric: -107.8975 - ssim_metric: 0.4338 - val_loss: 61624778752.0000 - val_psnr_metric: -107.8975 - val_ssim_metric: 0.4353\n",
            "Epoch 8/10\n",
            "\u001b[1m11/12\u001b[0m \u001b[32m━━━━━━━━━━━━━━━━━━\u001b[0m\u001b[37m━━\u001b[0m \u001b[1m35s\u001b[0m 36s/step - loss: 61624778752.0000 - psnr_metric: -107.8975 - ssim_metric: 0.4339 "
          ]
        }
      ],
      "source": [
        "# Train the model with the new dataset\n",
        "history = model.fit(train_dataset, validation_data=val_dataset, epochs=10)"
      ]
    },
    {
      "cell_type": "code",
      "execution_count": null,
      "metadata": {
        "id": "4TrNoOmIhwPL"
      },
      "outputs": [],
      "source": [
        "X_test, y_test = X[-3: ], y[-3: ]"
      ]
    },
    {
      "cell_type": "code",
      "execution_count": null,
      "metadata": {
        "colab": {
          "base_uri": "https://localhost:8080/"
        },
        "id": "7xwH-WFRP23y",
        "outputId": "59562acd-74ab-4fd2-f13b-2cd85f65e367"
      },
      "outputs": [
        {
          "name": "stdout",
          "output_type": "stream",
          "text": [
            "\u001b[1m1/1\u001b[0m \u001b[32m━━━━━━━━━━━━━━━━━━━━\u001b[0m\u001b[37m\u001b[0m \u001b[1m1s\u001b[0m 653ms/step\n",
            "\u001b[1m1/1\u001b[0m \u001b[32m━━━━━━━━━━━━━━━━━━━━\u001b[0m\u001b[37m\u001b[0m \u001b[1m0s\u001b[0m 216ms/step - loss: 61624778752.0000 - psnr_metric: -107.8975 - ssim_metric: 0.4378\n",
            "Test Loss: [61624778752.0, 0.4378083050251007, -107.89754486083984]\n"
          ]
        }
      ],
      "source": [
        "# Predict on test set\n",
        "y_pred = model.predict(X_test)\n",
        "\n",
        "# Evaluate model performance on test set\n",
        "test_loss = model.evaluate(X_test, y_test)\n",
        "print(f\"Test Loss: {test_loss}\")"
      ]
    },
    {
      "cell_type": "code",
      "execution_count": null,
      "metadata": {
        "colab": {
          "base_uri": "https://localhost:8080/",
          "height": 452
        },
        "id": "FlLJ-70-L6Xe",
        "outputId": "a54c047b-85d4-424b-94d0-ee7f990e99e8"
      },
      "outputs": [
        {
          "name": "stdout",
          "output_type": "stream",
          "text": [
            "\u001b[1m1/1\u001b[0m \u001b[32m━━━━━━━━━━━━━━━━━━━━\u001b[0m\u001b[37m\u001b[0m \u001b[1m0s\u001b[0m 325ms/step\n"
          ]
        },
        {
          "data": {
            "image/png": "[encoded data removed]",
            "text/plain": [
              "<Figure size 1000x500 with 2 Axes>"
            ]
          },
          "metadata": {},
          "output_type": "display_data"
        }
      ],
      "source": [
        "#forecasting\n",
        "\n",
        "input_sequence = data[-7:-1]\n",
        "input_sequence = input_sequence.reshape(1, 6, 360, 720, 1)\n",
        "predicted_image = model.predict(input_sequence)  # Predict for the first sequence in the validation set\n",
        "\n",
        "import matplotlib.pyplot as plt\n",
        "\n",
        "# Assuming 'predicted_image' has shape (1, 360, 720, 1)\n",
        "# Remove the extra dimensions\n",
        "predicted_image = predicted_image.squeeze()  # This will convert it to shape (360, 720)\n",
        "\n",
        "# Now you can plot the predicted image\n",
        "plt.figure(figsize=(10, 5))  # Set the figure size\n",
        "plt.imshow(predicted_image, cmap='magma')  # Use your preferred colormap\n",
        "plt.colorbar(label='Intensity')  # Add a colorbar for reference\n",
        "plt.title('Predicted Map')\n",
        "plt.xlabel('Longitude')\n",
        "plt.ylabel('Latitude')\n",
        "plt.axis('off')  # Optionally turn off the axis for a cleaner look\n",
        "plt.show()  # Display the plot\n",
        "\n"
      ]
    },
    {
      "cell_type": "markdown",
      "source": [
        "**NOT BEST RESUITS. But TerraTales (our team) works on Improvments**"
      ],
      "metadata": {
        "id": "IA1O5HIm3eKh"
      }
    }
  ],
  "metadata": {
    "accelerator": "GPU",
    "colab": {
      "gpuType": "T4",
      "provenance": []
    },
    "hide_input": false,
    "kernelspec": {
      "display_name": "Python 3",
      "name": "python3"
    },
    "language_info": {
      "codemirror_mode": {
        "name": "ipython",
        "version": 3
      },
      "file_extension": ".py",
      "mimetype": "text/x-python",
      "name": "python",
      "nbconvert_exporter": "python",
      "pygments_lexer": "ipython3",
      "version": "3.12.3"
    },
    "toc": {
      "base_numbering": 1,
      "nav_menu": {},
      "number_sections": true,
      "sideBar": true,
      "skip_h1_title": false,
      "title_cell": "Table of Contents",
      "title_sidebar": "Contents",
      "toc_cell": false,
      "toc_position": {},
      "toc_section_display": true,
      "toc_window_display": false
    }
  },
  "nbformat": 4,
  "nbformat_minor": 0
}